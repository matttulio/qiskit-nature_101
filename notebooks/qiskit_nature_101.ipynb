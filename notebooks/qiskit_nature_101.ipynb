{
 "cells": [
  {
   "attachments": {},
   "cell_type": "markdown",
   "metadata": {},
   "source": [
    "Build an ElectronicStructureProblem"
   ]
  },
  {
   "cell_type": "code",
   "execution_count": 6,
   "metadata": {},
   "outputs": [],
   "source": [
    "'''PySCFDriver is a class that allows to build a molecluar object in PySCF. We use it to compute the one body and two body integrals.'''\n",
    "from qiskit_nature.units import DistanceUnit\n",
    "from qiskit_nature.second_q.drivers import PySCFDriver\n",
    "\n",
    "driver = PySCFDriver(\n",
    "    atom=\"H 0 0 0; H 0 0 0.735\",\n",
    "    basis=\"sto3g\", #slater-type orbitals approximated with 3 gaussians\n",
    "    charge=0, #int chrge of the molecule\n",
    "    spin=0, #2S where S spin of the molecule\n",
    "    unit=DistanceUnit.ANGSTROM,\n",
    ")"
   ]
  },
  {
   "cell_type": "code",
   "execution_count": 7,
   "metadata": {},
   "outputs": [
    {
     "name": "stdout",
     "output_type": "stream",
     "text": [
      "<qiskit_nature.second_q.problems.electronic_structure_problem.ElectronicStructureProblem object at 0x7fe65f909950>\n"
     ]
    }
   ],
   "source": [
    "# Problem is a ElectronicStructureProblem object Ciao\n",
    "problem = driver.run()\n",
    "print(problem)"
   ]
  },
  {
   "cell_type": "code",
   "execution_count": 8,
   "metadata": {},
   "outputs": [
    {
     "name": "stdout",
     "output_type": "stream",
     "text": [
      "Polynomial Tensor\n",
      " \"+-\":\n",
      "[[-1.25633907e+00 -1.37083854e-17]\n",
      " [-6.07732712e-17 -4.71896007e-01]]\n",
      " \"++--\":\n",
      "[[[[6.75710155e-01 1.69253442e-16]\n",
      "   [1.56722377e-16 1.80931200e-01]]\n",
      "\n",
      "  [[4.84650299e-17 1.80931200e-01]\n",
      "   [6.64581730e-01 3.79897400e-16]]]\n",
      "\n",
      "\n",
      " [[[1.01440795e-16 6.64581730e-01]\n",
      "   [1.80931200e-01 4.71502663e-17]]\n",
      "\n",
      "  [[1.80931200e-01 3.78920172e-16]\n",
      "   [6.59828421e-17 6.98573723e-01]]]]\n"
     ]
    }
   ],
   "source": [
    "# The ElectonicStructureProblem object contains the hamiltonian of the molecule, and electronic integrals which the one and two body integrals\n",
    "hamiltonian = problem.hamiltonian\n",
    "coefficients = hamiltonian.electronic_integrals #one and two body integrals are 2d and 4d tensors respectively\n",
    "print(coefficients.alpha)"
   ]
  },
  {
   "cell_type": "code",
   "execution_count": 9,
   "metadata": {},
   "outputs": [
    {
     "name": "stdout",
     "output_type": "stream",
     "text": [
      "Fermionic Operator\n",
      "number spin orbitals=4, number terms=36\n",
      "  -1.25633907300325 * ( +_0 -_0 )\n",
      "+ -0.47189600728114184 * ( +_1 -_1 )\n",
      "+ -1.25633907300325 * ( +_2 -_2 )\n",
      "+ -0.47189600728114184 * ( +_3 -_3 )\n",
      "+ 0.33785507740175813 * ( +_0 +_0 -_0 -_0 )\n",
      "+ 0.09046559989211568 * ( +_0 +_0 -_1 -_1 )\n",
      "+ 0.09046559989211564 * ( +_0 +_1 -_0 -_1 )\n",
      "+ 0.33229086512764827 * ( +_0 +_1 -_1 -_0 )\n",
      "+ 0.33785507740175813 * ( +_0 +_2 -_2 -_0 )\n",
      "+ 0.09046559989211568 * ( +_0 +_2 -_3 -_1 )\n",
      "+ 0.09046559989211564 * ( +_0 +_3 -_2 -_1 )\n",
      "+ 0.33229086512764827 * ( +_0 +_3 -_3 -_0 )\n",
      "+ 0.3322908651276482 * ( +_1 +_0 -_0 -_1 )\n",
      "+ 0.09046559989211574 * ( +_1 +_0 -_1 -_0 )\n",
      "+ 0.09046559989211565 * ( +_1 +_1 -_0 -_0 )\n",
      "+ 0.3492868613660089 * ( +_1 +_1 -_1 -_1 )\n",
      "+ 0.3322908651276482 * ( +_1 +_2 -_2 -_1 )\n",
      "+ 0.09046559989211574 * ( +_1 +_2 -_3 -_0 )\n",
      "+ 0.09046559989211565 * ( +_1 +_3 -_2 -_0 )\n",
      "+ 0.3492868613660089 * ( +_1 +_3 -_3 -_1 )\n",
      "+ 0.33785507740175813 * ( +_2 +_0 -_0 -_2 )\n",
      "+ 0.09046559989211568 * ( +_2 +_0 -_1 -_3 )\n",
      "+ 0.09046559989211564 * ( +_2 +_1 -_0 -_3 )\n",
      "+ 0.33229086512764827 * ( +_2 +_1 -_1 -_2 )\n",
      "+ 0.33785507740175813 * ( +_2 +_2 -_2 -_2 )\n",
      "+ 0.09046559989211568 * ( +_2 +_2 -_3 -_3 )\n",
      "+ 0.09046559989211564 * ( +_2 +_3 -_2 -_3 )\n",
      "+ 0.33229086512764827 * ( +_2 +_3 -_3 -_2 )\n",
      "+ 0.3322908651276482 * ( +_3 +_0 -_0 -_3 )\n",
      "+ 0.09046559989211574 * ( +_3 +_0 -_1 -_2 )\n",
      "+ 0.09046559989211565 * ( +_3 +_1 -_0 -_2 )\n",
      "+ 0.3492868613660089 * ( +_3 +_1 -_1 -_3 )\n",
      "+ 0.3322908651276482 * ( +_3 +_2 -_2 -_3 )\n",
      "+ 0.09046559989211574 * ( +_3 +_2 -_3 -_2 )\n",
      "+ 0.09046559989211565 * ( +_3 +_3 -_2 -_2 )\n",
      "+ 0.3492868613660089 * ( +_3 +_3 -_3 -_3 )\n"
     ]
    }
   ],
   "source": [
    "#The hamiltonian object contains the second quantized operator (the two summands of the hamiltonian). \n",
    "#This is the electronic part of the hamiltonian (nuclear repulsion energy will be added later as a constant, is available as hamiltonian.nuclear_repulsion_energy)\n",
    "fermionic_op = hamiltonian.second_q_op()\n",
    "print(fermionic_op)"
   ]
  },
  {
   "attachments": {},
   "cell_type": "markdown",
   "metadata": {},
   "source": [
    "Mapping the problem to qubit space"
   ]
  },
  {
   "cell_type": "code",
   "execution_count": 10,
   "metadata": {},
   "outputs": [],
   "source": [
    "'''Jordan-Wigner transformation maps the fermionic operators to unitary operators acting on qubits (https://arxiv.org/abs/2110.12792).\n",
    "Doing so, we can map the n-body fermionic operator to a circuit of n-qubit gates.\n",
    "'''\n",
    "'''EDIT: bug in qiskit_nature.second_q.transforms.qubit_mapper.py called by JordanWignerMapper. Calls to_do method on FermionicOp object, \n",
    "which is not implemented, as the note says. Another mapper should be used, e.g. ParityMapper'''\n",
    "\n",
    "from qiskit_nature.second_q.mappers import ParityMapper\n",
    "mapper = ParityMapper()"
   ]
  },
  {
   "cell_type": "code",
   "execution_count": 11,
   "metadata": {},
   "outputs": [
    {
     "name": "stdout",
     "output_type": "stream",
     "text": [
      "-0.8105479805373275 * IIII\n",
      "+ 0.1721839326191556 * IIIZ\n",
      "- 0.2257534922240239 * IIZZ\n",
      "+ 0.17218393261915554 * IZZI\n",
      "- 0.2257534922240239 * ZZII\n",
      "+ 0.12091263261776629 * IIZI\n",
      "+ 0.16892753870087907 * IZZZ\n",
      "+ 0.04523279994605784 * ZXIX\n",
      "- 0.04523279994605784 * IXZX\n",
      "- 0.04523279994605784 * ZXZX\n",
      "+ 0.04523279994605784 * IXIX\n",
      "+ 0.16614543256382414 * ZZIZ\n",
      "+ 0.16614543256382414 * IZIZ\n",
      "+ 0.17464343068300445 * ZZZZ\n",
      "+ 0.12091263261776629 * ZIZI\n"
     ]
    },
    {
     "name": "stderr",
     "output_type": "stream",
     "text": [
      "/home/mattia-robbiano/.local/lib/python3.11/site-packages/qiskit_nature/deprecation.py:297: PauliSumOpDeprecationWarning: PauliSumOp is deprecated as of version 0.6.0 and support for them will be removed no sooner than 3 months after the release. Instead, use SparsePauliOp. You can switch to SparsePauliOp immediately, by setting `qiskit_nature.settings.use_pauli_sum_op` to `False`.\n",
      "  return func(*args, **kwargs)\n"
     ]
    }
   ],
   "source": [
    "qubit_jw_op = mapper.map(fermionic_op)\n",
    "print(qubit_jw_op)"
   ]
  },
  {
   "cell_type": "markdown",
   "metadata": {},
   "source": [
    "Classical Solver"
   ]
  },
  {
   "cell_type": "code",
   "execution_count": 12,
   "metadata": {},
   "outputs": [
    {
     "name": "stdout",
     "output_type": "stream",
     "text": [
      "{   'aux_operators_evaluated': None,\n",
      "    'eigenstates': [   Statevector([-3.19509634e-16-6.73210927e-19j,\n",
      "             -1.17289053e-16-3.09563315e-17j,\n",
      "              2.34236345e-17-5.04875540e-17j,\n",
      "             -9.81323962e-01+1.56725926e-01j,\n",
      "              5.54722592e-17-4.78331052e-17j,\n",
      "              4.99073782e-16+6.99084327e-16j,\n",
      "              1.10140120e-01-1.75903299e-02j,\n",
      "             -8.00902758e-17+4.61589082e-17j,\n",
      "             -1.52186641e-16-1.91987207e-17j,\n",
      "              7.54150601e-18+1.80062104e-16j,\n",
      "             -2.49984341e-16+1.50880401e-16j,\n",
      "             -2.83140502e-17+8.07828726e-18j,\n",
      "             -1.12463563e-16+5.45414416e-17j,\n",
      "              4.61862206e-18-6.54292931e-17j,\n",
      "             -1.72914826e-16+2.29780821e-16j,\n",
      "             -1.46448028e-16+3.16164053e-17j],\n",
      "            dims=(2, 2, 2, 2))],\n",
      "    'eigenvalues': array([-1.85727503])}\n"
     ]
    }
   ],
   "source": [
    "'''ow we need to define a solver, an algorithm that will find the ground state of the hamiltonian. \n",
    "One example is the NumPyEigensolver, which uses the NumPy sparse eigenvalue solver to compute the eigenvalues. This is a classical algorithm'''\n",
    "from qiskit.algorithms.eigensolvers import NumPyEigensolver\n",
    "\n",
    "numpy_solver = NumPyEigensolver(k=1)\n",
    "numpy_result = numpy_solver.compute_eigenvalues(qubit_jw_op)\n",
    "print(numpy_result)"
   ]
  },
  {
   "cell_type": "markdown",
   "metadata": {},
   "source": [
    "VQE eigensolver"
   ]
  },
  {
   "cell_type": "code",
   "execution_count": 13,
   "metadata": {},
   "outputs": [],
   "source": [
    "'''The 3 foundamental parts of VQE are:\n",
    "1) Ansatz: a parametrized quantum circuit that is used to prepare the trial state. \n",
    "Here we use the UCCSD ansatz: https://arxiv.org/abs/2109.15176.\n",
    "2) Estimator: a class that computes the expectation value of the hamiltonian on the trial state.\n",
    "3) Optimizer: a classical algorithm that finds the parameters of the ansatz that minimize the expectation \n",
    "value of the hamiltonian \n",
    "'''\n",
    "from qiskit.algorithms.minimum_eigensolvers import VQE\n",
    "from qiskit.algorithms.optimizers import SLSQP\n",
    "from qiskit.primitives import Estimator\n",
    "from qiskit_nature.second_q.circuit.library import HartreeFock, UCCSD\n",
    "\n",
    "ansatz = UCCSD(\n",
    "    problem.num_spatial_orbitals,       \n",
    "    problem.num_particles,              #number of electrons\n",
    "    mapper,                             #same mapper used before (parity mapper)\n",
    "    initial_state=HartreeFock(          #initial state is the Hartree-Fock state so that the ansatz is not too far from the ground state.\n",
    "        problem.num_spatial_orbitals,\n",
    "        problem.num_particles,\n",
    "        mapper,\n",
    "    ),\n",
    ")\n",
    "\n",
    "vqe_solver = VQE(Estimator(), ansatz, SLSQP())\n",
    "vqe_solver.initial_point = [0.0] * ansatz.num_parameters"
   ]
  },
  {
   "cell_type": "code",
   "execution_count": 15,
   "metadata": {},
   "outputs": [
    {
     "name": "stdout",
     "output_type": "stream",
     "text": [
      "=== GROUND STATE ENERGY ===\n",
      " \n",
      "* Electronic ground state energy (Hartree): -1.857275030144\n",
      "  - computed part:      -1.857275030144\n",
      "~ Nuclear repulsion energy (Hartree): 0.719968994449\n",
      "> Total ground state energy (Hartree): -1.137306035695\n",
      " \n",
      "=== MEASURED OBSERVABLES ===\n",
      " \n",
      "  0:  # Particles: 2.000 S: 0.000 S^2: 0.000 M: 0.000\n",
      " \n",
      "=== DIPOLE MOMENTS ===\n",
      " \n",
      "~ Nuclear dipole moment (a.u.): [0.0  0.0  1.3889487]\n",
      " \n",
      "  0: \n",
      "  * Electronic dipole moment (a.u.): [0.0  0.0  1.388948821583]\n",
      "    - computed part:      [0.0  0.0  1.388948821583]\n",
      "  > Dipole moment (a.u.): [0.0  0.0  -0.000000121583]  Total: 0.000000121583\n",
      "                 (debye): [0.0  0.0  -0.000000309033]  Total: 0.000000309033\n",
      " \n"
     ]
    }
   ],
   "source": [
    "'''GroundStateEigensolver is a class that combines the mapper, the solver and the problem \n",
    "to solve the problem and return the result'''\n",
    "from qiskit_nature.second_q.algorithms import GroundStateEigensolver\n",
    "\n",
    "calc = GroundStateEigensolver(mapper, vqe_solver)\n",
    "res = calc.solve(problem)\n",
    "print(res)"
   ]
  }
 ],
 "metadata": {
  "kernelspec": {
   "display_name": "Python 3 (ipykernel)",
   "language": "python",
   "name": "python3"
  },
  "language_info": {
   "codemirror_mode": {
    "name": "ipython",
    "version": 3
   },
   "file_extension": ".py",
   "mimetype": "text/x-python",
   "name": "python",
   "nbconvert_exporter": "python",
   "pygments_lexer": "ipython3",
   "version": "3.11.2"
  }
 },
 "nbformat": 4,
 "nbformat_minor": 4
}
